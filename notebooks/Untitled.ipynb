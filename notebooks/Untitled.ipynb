{
 "cells": [
  {
   "cell_type": "code",
   "execution_count": 1,
   "id": "db327eef-dfc3-4a04-8a20-51ab6d016563",
   "metadata": {},
   "outputs": [],
   "source": [
    "# Yield Curve Construction and Analysis // This notebook demonstrates the construction of yield curves using Nelson-Siegel, Nelson-Siegel-Svensson, and cubic spline interpolation methods. Additionally, it explores the impact of macroeconomic variables on the yield curve and calculates bond portfolio metrics such as zero-coupon yields, forward rates, and durations.\n"
   ]
  },
  {
   "cell_type": "code",
   "execution_count": 7,
   "id": "16391e6a-20f9-4a0d-a7b9-e0bde6cb48ae",
   "metadata": {},
   "outputs": [
    {
     "ename": "NameError",
     "evalue": "name 'maturities' is not defined",
     "output_type": "error",
     "traceback": [
      "\u001b[1;31m---------------------------------------------------------------------------\u001b[0m",
      "\u001b[1;31mNameError\u001b[0m                                 Traceback (most recent call last)",
      "Cell \u001b[1;32mIn[7], line 12\u001b[0m\n\u001b[0;32m     10\u001b[0m \u001b[38;5;66;03m# Import custom modules from src\u001b[39;00m\n\u001b[0;32m     11\u001b[0m \u001b[38;5;28;01mfrom\u001b[39;00m \u001b[38;5;21;01mnelson_siegel\u001b[39;00m \u001b[38;5;28;01mimport\u001b[39;00m nelson_siegel\n\u001b[1;32m---> 12\u001b[0m \u001b[38;5;28;01mfrom\u001b[39;00m \u001b[38;5;21;01mnelson_siegel_svensson\u001b[39;00m \u001b[38;5;28;01mimport\u001b[39;00m nelson_siegel_svensson\n\u001b[0;32m     13\u001b[0m \u001b[38;5;28;01mfrom\u001b[39;00m \u001b[38;5;21;01mcubic_spline\u001b[39;00m \u001b[38;5;28;01mimport\u001b[39;00m cubic_spline_interpolation  \u001b[38;5;66;03m# Replace with the actual function name if needed\u001b[39;00m\n\u001b[0;32m     14\u001b[0m \u001b[38;5;28;01mfrom\u001b[39;00m \u001b[38;5;21;01myield_metrics\u001b[39;00m \u001b[38;5;28;01mimport\u001b[39;00m zero_coupon_yield, forward_rate, macaulay_duration\n",
      "File \u001b[1;32m~\\Documents\\Git\\yield-curve-construction-analysis\\notebooks\\../src\\nelson_siegel_svensson.py:22\u001b[0m\n\u001b[0;32m     19\u001b[0m     \u001b[38;5;28;01mreturn\u001b[39;00m term1 \u001b[38;5;241m+\u001b[39m term2 \u001b[38;5;241m+\u001b[39m term3 \u001b[38;5;241m+\u001b[39m term4\n\u001b[0;32m     21\u001b[0m \u001b[38;5;66;03m# Example usage\u001b[39;00m\n\u001b[1;32m---> 22\u001b[0m yields_svensson \u001b[38;5;241m=\u001b[39m nelson_siegel_svensson(\u001b[43mmaturities\u001b[49m, beta0\u001b[38;5;241m=\u001b[39m\u001b[38;5;241m0.03\u001b[39m, beta1\u001b[38;5;241m=\u001b[39m\u001b[38;5;241m-\u001b[39m\u001b[38;5;241m0.02\u001b[39m, beta2\u001b[38;5;241m=\u001b[39m\u001b[38;5;241m0.02\u001b[39m, beta3\u001b[38;5;241m=\u001b[39m\u001b[38;5;241m0.01\u001b[39m, tau1\u001b[38;5;241m=\u001b[39m\u001b[38;5;241m2.0\u001b[39m, tau2\u001b[38;5;241m=\u001b[39m\u001b[38;5;241m0.5\u001b[39m)\n",
      "\u001b[1;31mNameError\u001b[0m: name 'maturities' is not defined"
     ]
    }
   ],
   "source": [
    "# Import necessary libraries\n",
    "import numpy as np\n",
    "import matplotlib.pyplot as plt\n",
    "import pandas as pd\n",
    "\n",
    "import sys\n",
    "sys.path.append('../src')\n",
    "\n",
    "# Import custom modules from src\n",
    "from nelson_siegel import nelson_siegel\n",
    "from nelson_siegel_svensson import nelson_siegel_svensson\n",
    "from cubic_spline import cubic_spline_interpolation  \n",
    "from yield_metrics import zero_coupon_yield, forward_rate, macaulay_duration\n",
    "from macro_analysis import analyze_macroeconomic_impact \n",
    "# Display plots inline\n",
    "%matplotlib inline\n"
   ]
  },
  {
   "cell_type": "code",
   "execution_count": 3,
   "id": "72fe9549-26ce-44f7-9fd9-8006367da881",
   "metadata": {},
   "outputs": [],
   "source": [
    "## Setting Up Input Parameters Define the input parameters for yield curve construction.\n"
   ]
  },
  {
   "cell_type": "code",
   "execution_count": 8,
   "id": "db6a021f-cb94-4bed-8223-4ed80b6b856e",
   "metadata": {},
   "outputs": [],
   "source": [
    "# Define example parameters for yield curve models\n",
    "maturities = np.linspace(0.1, 30, 100)  # Maturities from 0.1 to 30 years\n",
    "\n",
    "# Parameters for Nelson-Siegel model\n",
    "beta0, beta1, beta2, tau = 0.03, -0.02, 0.02, 2.0\n",
    "\n",
    "# Parameters for Nelson-Siegel-Svensson model\n",
    "beta3, tau2 = 0.01, 0.5\n"
   ]
  },
  {
   "cell_type": "code",
   "execution_count": 9,
   "id": "0d9b74f0-025d-4858-8048-14b508e9d8fa",
   "metadata": {},
   "outputs": [],
   "source": [
    "## Constructing and Plotting Yield Curves Construct yield curves using different models and visualize them.\n"
   ]
  },
  {
   "cell_type": "code",
   "execution_count": 11,
   "id": "6b324b0f-8804-4275-84eb-cee5af41da5b",
   "metadata": {},
   "outputs": [
    {
     "ename": "NameError",
     "evalue": "name 'nelson_siegel_svensson' is not defined",
     "output_type": "error",
     "traceback": [
      "\u001b[1;31m---------------------------------------------------------------------------\u001b[0m",
      "\u001b[1;31mNameError\u001b[0m                                 Traceback (most recent call last)",
      "Cell \u001b[1;32mIn[11], line 5\u001b[0m\n\u001b[0;32m      2\u001b[0m yields_nelson \u001b[38;5;241m=\u001b[39m nelson_siegel(maturities, beta0, beta1, beta2, tau)\n\u001b[0;32m      4\u001b[0m \u001b[38;5;66;03m# Nelson-Siegel-Svensson yield curve\u001b[39;00m\n\u001b[1;32m----> 5\u001b[0m yields_svensson \u001b[38;5;241m=\u001b[39m \u001b[43mnelson_siegel_svensson\u001b[49m(maturities, beta0, beta1, beta2, beta3, tau, tau2)\n\u001b[0;32m      7\u001b[0m \u001b[38;5;66;03m# Plot the results\u001b[39;00m\n\u001b[0;32m      8\u001b[0m plt\u001b[38;5;241m.\u001b[39mfigure(figsize\u001b[38;5;241m=\u001b[39m(\u001b[38;5;241m12\u001b[39m, \u001b[38;5;241m6\u001b[39m))\n",
      "\u001b[1;31mNameError\u001b[0m: name 'nelson_siegel_svensson' is not defined"
     ]
    }
   ],
   "source": [
    "# Nelson-Siegel yield curve\n",
    "yields_nelson = nelson_siegel(maturities, beta0, beta1, beta2, tau)\n",
    "\n",
    "# Nelson-Siegel-Svensson yield curve\n",
    "yields_svensson = nelson_siegel_svensson(maturities, beta0, beta1, beta2, beta3, tau, tau2)\n",
    "\n",
    "# Plot the results\n",
    "plt.figure(figsize=(12, 6))\n",
    "plt.plot(maturities, yields_nelson, label='Nelson-Siegel')\n",
    "plt.plot(maturities, yields_svensson, label='Nelson-Siegel-Svensson')\n",
    "plt.title('Yield Curves Constructed Using Nelson-Siegel and Nelson-Siegel-Svensson Models')\n",
    "plt.xlabel('Maturity (Years)')\n",
    "plt.ylabel('Yield')\n",
    "plt.grid(True)\n",
    "plt.legend()\n",
    "plt.show()\n"
   ]
  },
  {
   "cell_type": "code",
   "execution_count": null,
   "id": "dbad9d7b-2f9c-4287-a450-1457a71e1893",
   "metadata": {},
   "outputs": [],
   "source": [
    "## Cubic Spline Interpolation Perform and visualize cubic spline interpolation on sample yield data.\n"
   ]
  },
  {
   "cell_type": "code",
   "execution_count": null,
   "id": "5abf21c1-dc68-403d-a826-7614c57933a7",
   "metadata": {},
   "outputs": [],
   "source": [
    "# Sample data for cubic spline interpolation\n",
    "maturities_points = np.array([1, 2, 5, 10, 20, 30])\n",
    "yields_points = np.array([0.02, 0.025, 0.03, 0.035, 0.04, 0.045])\n",
    "\n",
    "# Perform cubic spline interpolation\n",
    "yields_interpolated = cubic_spline_interpolation(maturities_points, yields_points, maturities)\n",
    "\n",
    "# Plot the cubic spline interpolation\n",
    "plt.figure(figsize=(12, 6))\n",
    "plt.plot(maturities_points, yields_points, 'o', label='Original Data Points')\n",
    "plt.plot(maturities, yields_interpolated, label='Cubic Spline Interpolation')\n",
    "plt.title('Yield Curve Using Cubic Spline Interpolation')\n",
    "plt.xlabel('Maturity (Years)')\n",
    "plt.ylabel('Yield')\n",
    "plt.grid(True)\n",
    "plt.legend()\n",
    "plt.show()\n"
   ]
  },
  {
   "cell_type": "code",
   "execution_count": null,
   "id": "52ce85cb-d49c-4c7a-94b9-099afbafa211",
   "metadata": {},
   "outputs": [],
   "source": [
    "## Analyzing Macroeconomic Impact on Yield Curves Analyze the impact of macroeconomic variables like inflation and interest rates on yield curves.\n"
   ]
  },
  {
   "cell_type": "code",
   "execution_count": null,
   "id": "1893c1f5-9c55-471a-9755-fdf5325f3192",
   "metadata": {},
   "outputs": [],
   "source": [
    "# Example analysis function call (replace with actual macroeconomic data)\n",
    "inflation_data = pd.Series(np.random.randn(100) * 0.01 + 0.02)  # Simulated inflation data\n",
    "macro_analysis_result = analyze_macroeconomic_impact(inflation_data, yields_nelson)\n",
    "\n",
    "print(f\"Correlation between inflation and Nelson-Siegel yields: {macro_analysis_result:.2f}\")\n"
   ]
  },
  {
   "cell_type": "code",
   "execution_count": null,
   "id": "617ffef2-b1ea-4f49-a63a-18b81778c9be",
   "metadata": {},
   "outputs": [],
   "source": [
    "## Calculating Zero-Coupon Yields, Forward Rates, and Duration Calculate zero-coupon yields using bootstrapping, forward rates, and Macaulay duration.\n"
   ]
  },
  {
   "cell_type": "code",
   "execution_count": null,
   "id": "d2912587-ec4b-41bc-820b-cf86dbe3d90a",
   "metadata": {},
   "outputs": [],
   "source": [
    "## Conclusion This notebook demonstrated how to construct yield curves using various models, analyze the impact of macroeconomic variables, and calculate key metrics such as zero-coupon yields, forward rates, and duration. These analyses are crucial for financial risk management and strategic decision-making.\n"
   ]
  },
  {
   "cell_type": "code",
   "execution_count": null,
   "id": "6a2fb6f4-6c24-49a3-9bfe-c0ae0e208e8e",
   "metadata": {},
   "outputs": [],
   "source": []
  }
 ],
 "metadata": {
  "kernelspec": {
   "display_name": "Python 3 (ipykernel)",
   "language": "python",
   "name": "python3"
  },
  "language_info": {
   "codemirror_mode": {
    "name": "ipython",
    "version": 3
   },
   "file_extension": ".py",
   "mimetype": "text/x-python",
   "name": "python",
   "nbconvert_exporter": "python",
   "pygments_lexer": "ipython3",
   "version": "3.13.0"
  }
 },
 "nbformat": 4,
 "nbformat_minor": 5
}
